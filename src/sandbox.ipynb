{
 "cells": [
  {
   "cell_type": "code",
   "execution_count": 3,
   "metadata": {},
   "outputs": [],
   "source": [
    "import pandas as pd \n",
    "import numpy as np\n",
    "\n",
    "from pathlib import Path"
   ]
  },
  {
   "cell_type": "code",
   "execution_count": 11,
   "metadata": {},
   "outputs": [
    {
     "name": "stderr",
     "output_type": "stream",
     "text": [
      "/home/anj/miniconda3/envs/streamlit/lib/python3.10/site-packages/openpyxl/styles/stylesheet.py:226: UserWarning: Workbook contains no default style, apply openpyxl's default\n",
      "  warn(\"Workbook contains no default style, apply openpyxl's default\")\n"
     ]
    }
   ],
   "source": [
    "path_hub = \"sample-input/hubspot-crm-exports-sync-erwin-hubspot-2023-10-16.xlsx\"\n",
    "path_er = \"sample-input/crm.lead.csv\"\n",
    "parent_dir = Path.cwd().parents[0]\n",
    "\n",
    "try:\n",
    "    df_hub = pd.read_csv(parent_dir / path_hub)\n",
    "except UnicodeDecodeError:\n",
    "    df_hub = pd.read_excel(parent_dir / path_hub)\n",
    "\n",
    "try:\n",
    "    df_er = pd.read_csv(parent_dir / path_er)\n",
    "except UnicodeDecodeError:\n",
    "    df_er = pd.read_excel(parent_dir / path_er)\n"
   ]
  },
  {
   "cell_type": "code",
   "execution_count": 124,
   "metadata": {},
   "outputs": [],
   "source": [
    "def clean_email(df, email_col):\n",
    "    return df[email_col].str.strip().str.lower()\n",
    "\n",
    "def clean_phone(df, phone_col):\n",
    "    return (df[phone_col]\n",
    "            .str.strip()\n",
    "            .str.replace(\"/D\", \"\", regex=True)\n",
    "            .str.replace(\"^62\", \"0\", regex=True)\n",
    "            .str.replace(\"^8\", \"08\", regex=True)\n",
    "            )"
   ]
  },
  {
   "cell_type": "code",
   "execution_count": 127,
   "metadata": {},
   "outputs": [],
   "source": [
    "def clean_df_hub(df):\n",
    "    return (df\n",
    "        .rename(columns=lambda c: c.lower().replace(\" \", \"_\"))\n",
    "        .assign(\n",
    "            email=lambda df_: clean_email(df_, \"email\"),\n",
    "            phone_number=lambda df_: clean_phone(df_, \"phone_number\"),\n",
    "        )\n",
    "        .loc[lambda df_: (df_[\"email\"] != np.nan) & (df_[\"phone_number\"] != np.nan)]\n",
    "        .drop_duplicates(subset=[\"email\", \"phone_number\"])\n",
    "    )\n",
    "\n",
    "\n",
    "def clean_df_er(df):\n",
    "    map_stage = {\n",
    "        \"Appointment\": \"Sales qualified lead\",\n",
    "        \"Show\": \"Opportunity\",\n",
    "        \"Down Payment\": \"Customer\",\n",
    "        \"Fully Paid\": \"Customer\",\n",
    "        \"False\": \"Lead\",\n",
    "        \"Lead\": \"Lead\",\n",
    "        np.nan: \"Lead\",\n",
    "    }\n",
    "    map_lp = {\n",
    "        \"Ya\": \"Yes\",\n",
    "        \"Mau!\": \"Yes\",\n",
    "        \"Tidak\": \"No\",\n",
    "        \"Engga, deh.\": \"No\",\n",
    "        np.nan: \"Blank\",\n",
    "    }\n",
    "\n",
    "    return (df_er\n",
    "        .rename(columns=lambda c: c.lower().replace(\" \", \"_\").replace(\"/\", \"_\").replace(\"?\", \"\"))\n",
    "        .rename(columns={\n",
    "            \"stage_display_name\": \"stage\"\n",
    "        })\n",
    "        .loc[\n",
    "            lambda df_: \n",
    "                (df_[\"source\"].isin([\"Digital-Paid\", \"Digital-Organic\"])) &\\\n",
    "                (df_[\"stage\"] != \"Renewal\") &\\\n",
    "                (df_[\"email\"] != np.nan) &\\\n",
    "                (df_[\"phone\"] != np.nan)\n",
    "        ]\n",
    "        .assign(\n",
    "            email=lambda df_: clean_email(df_, \"email\"),\n",
    "            phone=lambda df_: clean_phone(df_, \"phone\"),\n",
    "            stage=lambda df_: df_[\"stage\"].map(map_stage),\n",
    "            learning_preference=lambda df_: df_[\"learning_preference\"].map(map_lp),\n",
    "            tmk_call=lambda df_: df_[\"tmk_call\"].map({True: 1, False: 0})\n",
    "        )\n",
    "        .drop_duplicates(subset=[\"email\", \"phone\"])\n",
    "    )"
   ]
  },
  {
   "cell_type": "code",
   "execution_count": 129,
   "metadata": {},
   "outputs": [],
   "source": [
    "df_hub_clean =clean_df_hub(df_hub)\n",
    "df_er_clean =clean_df_er(df_er)"
   ]
  }
 ],
 "metadata": {
  "kernelspec": {
   "display_name": "data-science",
   "language": "python",
   "name": "python3"
  },
  "language_info": {
   "codemirror_mode": {
    "name": "ipython",
    "version": 3
   },
   "file_extension": ".py",
   "mimetype": "text/x-python",
   "name": "python",
   "nbconvert_exporter": "python",
   "pygments_lexer": "ipython3",
   "version": "3.10.13"
  }
 },
 "nbformat": 4,
 "nbformat_minor": 2
}
